{
 "cells": [
  {
   "cell_type": "code",
   "execution_count": 33,
   "id": "84d0d386-bb8e-42f0-8e47-25f51a4faf7e",
   "metadata": {},
   "outputs": [],
   "source": [
    "def shafna():\n",
    "    print('hello')   "
   ]
  },
  {
   "cell_type": "code",
   "execution_count": 34,
   "id": "6a75fa40-6271-4f5a-a9f8-954f0a8e37dd",
   "metadata": {},
   "outputs": [
    {
     "name": "stdout",
     "output_type": "stream",
     "text": [
      "hello\n"
     ]
    }
   ],
   "source": [
    "shafna()"
   ]
  },
  {
   "cell_type": "code",
   "execution_count": 35,
   "id": "b0c378be-dd12-45c9-bc91-fe2e6ac7e715",
   "metadata": {},
   "outputs": [],
   "source": [
    "def shafna():\n",
    "    print(10000,'jhjnjknj')"
   ]
  },
  {
   "cell_type": "code",
   "execution_count": 36,
   "id": "2299a04e-2348-4dee-838f-628b36a668a6",
   "metadata": {},
   "outputs": [
    {
     "name": "stdout",
     "output_type": "stream",
     "text": [
      "10000 jhjnjknj\n"
     ]
    }
   ],
   "source": [
    "shafna()"
   ]
  },
  {
   "cell_type": "code",
   "execution_count": 39,
   "id": "291020fa-fed0-47ad-a01f-78eb316ef7cc",
   "metadata": {},
   "outputs": [],
   "source": [
    "def shafna(num):\n",
    "    print( num+num)"
   ]
  },
  {
   "cell_type": "code",
   "execution_count": 40,
   "id": "a05d9e8f-0862-4597-9113-41898e778c3a",
   "metadata": {},
   "outputs": [
    {
     "name": "stdout",
     "output_type": "stream",
     "text": [
      "20000\n",
      "None\n"
     ]
    }
   ],
   "source": [
    "print(shafna(10000))"
   ]
  },
  {
   "cell_type": "code",
   "execution_count": 41,
   "id": "7135cb54-ba56-4cb6-90df-22913854a7a0",
   "metadata": {},
   "outputs": [],
   "source": [
    "def shafna(num):\n",
    "    return num+num"
   ]
  },
  {
   "cell_type": "code",
   "execution_count": 44,
   "id": "8762f5bd-7916-4c41-b556-febe376c9397",
   "metadata": {},
   "outputs": [],
   "source": [
    "a=shafna(6)"
   ]
  },
  {
   "cell_type": "code",
   "execution_count": 45,
   "id": "7d72a0c1-6873-4db0-9354-d9ddfb6ed3c6",
   "metadata": {},
   "outputs": [
    {
     "data": {
      "text/plain": [
       "12"
      ]
     },
     "execution_count": 45,
     "metadata": {},
     "output_type": "execute_result"
    }
   ],
   "source": [
    "a"
   ]
  },
  {
   "cell_type": "code",
   "execution_count": 19,
   "id": "f7619585-5447-48d0-8d9f-ffc853784885",
   "metadata": {},
   "outputs": [
    {
     "name": "stdin",
     "output_type": "stream",
     "text": [
      "enter the words dddddAA\n"
     ]
    }
   ],
   "source": [
    "string1=input('enter the words')\n",
    "string2=[]\n",
    "def word(a):\n",
    "    for letter in a:\n",
    "     if letter.isupper():\n",
    "      string2.append(letter)  \n",
    "    return string2"
   ]
  },
  {
   "cell_type": "code",
   "execution_count": 20,
   "id": "729f2dfb-89b8-407d-b3cf-34ed65152099",
   "metadata": {},
   "outputs": [],
   "source": [
    "a=word(string1)"
   ]
  },
  {
   "cell_type": "code",
   "execution_count": 21,
   "id": "7a7291d9-b1dd-4b02-9e94-fcf83072a7a4",
   "metadata": {},
   "outputs": [
    {
     "data": {
      "text/plain": [
       "['A', 'A']"
      ]
     },
     "execution_count": 21,
     "metadata": {},
     "output_type": "execute_result"
    }
   ],
   "source": [
    "a"
   ]
  },
  {
   "cell_type": "code",
   "execution_count": 22,
   "id": "bd447575-a9e7-4a21-ba6b-89ad69350be7",
   "metadata": {},
   "outputs": [],
   "source": [
    "def word(a):\n",
    "    for letter in a:\n",
    "     if letter.isupper():\n",
    "         yield letter\n",
    "      "
   ]
  },
  {
   "cell_type": "code",
   "execution_count": 23,
   "id": "67dad661-ce57-4d9d-bde6-ef8f0096e607",
   "metadata": {},
   "outputs": [
    {
     "data": {
      "text/plain": [
       "['D', 'D', 'D', 'D', 'D', 'D']"
      ]
     },
     "execution_count": 23,
     "metadata": {},
     "output_type": "execute_result"
    }
   ],
   "source": [
    "list(word('aaaaaaDDDDDDhhh'))"
   ]
  },
  {
   "cell_type": "code",
   "execution_count": 36,
   "id": "f547f583-2725-40c8-a325-8b28c4267434",
   "metadata": {},
   "outputs": [],
   "source": [
    "list1=['anu','man','sanu','apple','banana','grapes','cherry','rinu','s','aa']\n",
    "list2=[]\n",
    "def names(a):\n",
    "    for words in a:\n",
    "        if len(words)<=3:\n",
    "            list2.append(words)\n",
    "    return list2"
   ]
  },
  {
   "cell_type": "code",
   "execution_count": 37,
   "id": "fedd562f-d47f-440c-a2a0-0f77553e48b9",
   "metadata": {},
   "outputs": [
    {
     "data": {
      "text/plain": [
       "['anu', 'man', 's', 'aa']"
      ]
     },
     "execution_count": 37,
     "metadata": {},
     "output_type": "execute_result"
    }
   ],
   "source": [
    "a=names(list1)\n",
    "a"
   ]
  },
  {
   "cell_type": "code",
   "execution_count": 40,
   "id": "8f4bdc47-63a4-4701-b5bd-e80d4ab6602a",
   "metadata": {},
   "outputs": [],
   "source": [
    "def names(a):\n",
    "    for words in a:\n",
    "        if len(words)<=3:\n",
    "            yield words"
   ]
  },
  {
   "cell_type": "code",
   "execution_count": 41,
   "id": "5025843c-277e-4ddc-b74a-361f82f7851a",
   "metadata": {},
   "outputs": [
    {
     "data": {
      "text/plain": [
       "['anu', 'man', 's', 'aa']"
      ]
     },
     "execution_count": 41,
     "metadata": {},
     "output_type": "execute_result"
    }
   ],
   "source": [
    "list(names(list1))"
   ]
  },
  {
   "cell_type": "code",
   "execution_count": 9,
   "id": "ecc0c025-ae1d-4e94-b06e-7aa66825d1dc",
   "metadata": {},
   "outputs": [],
   "source": [
    "list1=['aNu','man','sANU','appLE','baNANA','grapES','chERRY','rinU','s','A']\n",
    "\n",
    "def names(a):\n",
    "    list2=[]\n",
    "    for word in a:\n",
    "        upper=0\n",
    "        lower=0\n",
    "        for letter in word:\n",
    "            if letter.isupper():\n",
    "                upper=upper+1\n",
    "            else:\n",
    "                lower=lower+1\n",
    "        if upper>lower:    \n",
    "            list2.append(word)\n",
    "    return list2    "
   ]
  },
  {
   "cell_type": "code",
   "execution_count": 10,
   "id": "683a8366-b861-4b8b-acbf-f569fae3727b",
   "metadata": {},
   "outputs": [],
   "source": [
    "a=names(list1)"
   ]
  },
  {
   "cell_type": "code",
   "execution_count": 11,
   "id": "9973e151-7d5b-4a82-8030-cf20d3429201",
   "metadata": {},
   "outputs": [
    {
     "data": {
      "text/plain": [
       "['sANU', 'baNANA', 'chERRY', 'A']"
      ]
     },
     "execution_count": 11,
     "metadata": {},
     "output_type": "execute_result"
    }
   ],
   "source": [
    "a"
   ]
  },
  {
   "cell_type": "code",
   "execution_count": 13,
   "id": "7575c440-4171-475f-bc74-8471d4095981",
   "metadata": {},
   "outputs": [],
   "source": [
    "def names(a):\n",
    "     for word in a:\n",
    "        upper=0\n",
    "        lower=0\n",
    "        for letter in word:\n",
    "            if letter.isupper():\n",
    "                upper=upper+1\n",
    "            else:\n",
    "                lower=lower+1\n",
    "        if upper>lower: \n",
    "            yield word  "
   ]
  },
  {
   "cell_type": "code",
   "execution_count": 14,
   "id": "2919d15c-34c2-4e1f-97cd-69b5f6c89097",
   "metadata": {},
   "outputs": [
    {
     "data": {
      "text/plain": [
       "['sANU', 'baNANA', 'chERRY', 'A']"
      ]
     },
     "execution_count": 14,
     "metadata": {},
     "output_type": "execute_result"
    }
   ],
   "source": [
    "list(names(list1))"
   ]
  },
  {
   "cell_type": "code",
   "execution_count": null,
   "id": "c161655b-33bd-430e-89e3-cfb4aff3eed1",
   "metadata": {},
   "outputs": [],
   "source": []
  }
 ],
 "metadata": {
  "kernelspec": {
   "display_name": "Python 3 (ipykernel)",
   "language": "python",
   "name": "python3"
  },
  "language_info": {
   "codemirror_mode": {
    "name": "ipython",
    "version": 3
   },
   "file_extension": ".py",
   "mimetype": "text/x-python",
   "name": "python",
   "nbconvert_exporter": "python",
   "pygments_lexer": "ipython3",
   "version": "3.11.7"
  }
 },
 "nbformat": 4,
 "nbformat_minor": 5
}
